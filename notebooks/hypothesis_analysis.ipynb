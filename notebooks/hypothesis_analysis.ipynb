{
 "cells": [
  {
   "cell_type": "code",
   "execution_count": 16,
   "metadata": {},
   "outputs": [],
   "source": [
    "import pandas as pd\n",
    "import scipy.stats as stats\n",
    "from statsmodels.stats.weightstats import ztest\n",
    "import sys\n",
    "import os"
   ]
  },
  {
   "cell_type": "code",
   "execution_count": 17,
   "metadata": {},
   "outputs": [],
   "source": [
    "sys.path.append(os.path.abspath('../scripts'))"
   ]
  },
  {
   "cell_type": "code",
   "execution_count": 20,
   "metadata": {},
   "outputs": [
    {
     "name": "stderr",
     "output_type": "stream",
     "text": [
      "C:\\Users\\ftesfaye\\AppData\\Local\\Temp\\ipykernel_1016\\1487130439.py:1: DtypeWarning: Columns (32,37) have mixed types. Specify dtype option on import or set low_memory=False.\n",
      "  df = pd.read_csv('../data/MachineLearningRating_v3.txt', delimiter='|')\n"
     ]
    }
   ],
   "source": [
    "df = pd.read_csv('../data/MachineLearningRating_v3.txt', delimiter='|')"
   ]
  },
  {
   "cell_type": "code",
   "execution_count": 4,
   "metadata": {},
   "outputs": [],
   "source": [
    "from hypotesis_function import (t_test_risk_provinces,t_test_risk_zipcodes,t_test_margin_zipcodes,\n",
    "                                t_test_risk_gender)"
   ]
  },
  {
   "cell_type": "code",
   "execution_count": 5,
   "metadata": {},
   "outputs": [],
   "source": [
    "# KPI Calculation: Profit Margin\n",
    "df['Margin'] = df['TotalPremium'] - df['TotalClaims']"
   ]
  },
  {
   "cell_type": "code",
   "execution_count": 6,
   "metadata": {},
   "outputs": [],
   "source": [
    "\n",
    "# Select two provinces to test\n",
    "df_provinces = df[df['Province'].isin(['Gauteng', 'Western Cape'])]"
   ]
  },
  {
   "cell_type": "code",
   "execution_count": 7,
   "metadata": {},
   "outputs": [
    {
     "name": "stdout",
     "output_type": "stream",
     "text": [
      "Province Risk T-test P-value: 0.05632044649871883\n"
     ]
    }
   ],
   "source": [
    "p_value_province = t_test_risk_provinces(df_provinces)\n",
    "print(f\"Province Risk T-test P-value: {p_value_province}\")"
   ]
  },
  {
   "cell_type": "code",
   "execution_count": 9,
   "metadata": {},
   "outputs": [],
   "source": [
    "\n",
    "# Select two zip codes for comparison\n",
    "df_zipcodes = df[df['PostalCode'].isin([2410, 1709])]"
   ]
  },
  {
   "cell_type": "code",
   "execution_count": 11,
   "metadata": {},
   "outputs": [
    {
     "name": "stdout",
     "output_type": "stream",
     "text": [
      "Zip Code Risk T-test P-value: 0.6779791048386603\n"
     ]
    }
   ],
   "source": [
    "p_value_zipcode = t_test_risk_zipcodes(df_zipcodes)\n",
    "print(f\"Zip Code Risk T-test P-value: {p_value_zipcode}\")"
   ]
  },
  {
   "cell_type": "code",
   "execution_count": 19,
   "metadata": {},
   "outputs": [
    {
     "name": "stdout",
     "output_type": "stream",
     "text": [
      "Zip Code Margin T-test P-value: 0.22992310516844786\n"
     ]
    }
   ],
   "source": [
    "p_value_margin_zipcode = t_test_margin_zipcodes(df_zipcodes)\n",
    "print(f\"Zip Code Margin T-test P-value: {p_value_margin_zipcode}\")"
   ]
  },
  {
   "cell_type": "code",
   "execution_count": 23,
   "metadata": {},
   "outputs": [],
   "source": [
    "\n",
    "# Gender segmentation (Male vs Female)\n",
    "df_gender = df[df['Gender'].isin(['Male', 'Female'])]  # Adjust values if needed\n"
   ]
  },
  {
   "cell_type": "code",
   "execution_count": 22,
   "metadata": {},
   "outputs": [
    {
     "name": "stdout",
     "output_type": "stream",
     "text": [
      "Gender Risk T-test P-value: 0.8041073961270343\n"
     ]
    }
   ],
   "source": [
    "p_value_gender = t_test_risk_gender(df_gender)\n",
    "print(f\"Gender Risk T-test P-value: {p_value_gender}\")"
   ]
  }
 ],
 "metadata": {
  "kernelspec": {
   "display_name": "venv",
   "language": "python",
   "name": "python3"
  },
  "language_info": {
   "codemirror_mode": {
    "name": "ipython",
    "version": 3
   },
   "file_extension": ".py",
   "mimetype": "text/x-python",
   "name": "python",
   "nbconvert_exporter": "python",
   "pygments_lexer": "ipython3",
   "version": "3.11.2"
  }
 },
 "nbformat": 4,
 "nbformat_minor": 2
}
